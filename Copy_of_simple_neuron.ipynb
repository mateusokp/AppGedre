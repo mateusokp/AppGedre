{
  "nbformat": 4,
  "nbformat_minor": 0,
  "metadata": {
    "colab": {
      "name": "Copy of simple_neuron.ipynb",
      "provenance": [],
      "include_colab_link": true
    },
    "kernelspec": {
      "name": "python3",
      "display_name": "Python 3"
    }
  },
  "cells": [
    {
      "cell_type": "markdown",
      "metadata": {
        "id": "view-in-github",
        "colab_type": "text"
      },
      "source": [
        "<a href=\"https://colab.research.google.com/github/mateusokp/AppGedre/blob/master/Copy_of_simple_neuron.ipynb\" target=\"_parent\"><img src=\"https://colab.research.google.com/assets/colab-badge.svg\" alt=\"Open In Colab\"/></a>"
      ]
    },
    {
      "cell_type": "code",
      "metadata": {
        "id": "wqec2VE2xWhz"
      },
      "source": [
        "import numpy as np\n",
        "from matplotlib import pyplot as plt"
      ],
      "execution_count": null,
      "outputs": []
    },
    {
      "cell_type": "code",
      "metadata": {
        "id": "JrIxfeaHxG-b"
      },
      "source": [
        "def sigmoid(x):\n",
        "  return 1.0 / (1 + np.exp(-x))"
      ],
      "execution_count": null,
      "outputs": []
    },
    {
      "cell_type": "code",
      "metadata": {
        "id": "ivEWxX19xchW"
      },
      "source": [
        "x = np.linspace(-5.0, 5.0)\n",
        "y = sigmoid(x)"
      ],
      "execution_count": null,
      "outputs": []
    },
    {
      "cell_type": "code",
      "metadata": {
        "id": "brPHGi6YyIkQ",
        "colab": {
          "base_uri": "https://localhost:8080/",
          "height": 282
        },
        "outputId": "e66018f7-51c6-493d-cdf8-1cd622c30ba6"
      },
      "source": [
        "plt.plot(x,y)"
      ],
      "execution_count": null,
      "outputs": [
        {
          "output_type": "execute_result",
          "data": {
            "text/plain": [
              "[<matplotlib.lines.Line2D at 0x7f5b7a323050>]"
            ]
          },
          "metadata": {},
          "execution_count": 8
        },
        {
          "output_type": "display_data",
          "data": {
            "image/png": "[encoded data removed]",
            "text/plain": [
              "<Figure size 432x288 with 1 Axes>"
            ]
          },
          "metadata": {
            "needs_background": "light"
          }
        }
      ]
    },
    {
      "cell_type": "code",
      "metadata": {
        "id": "Zc5aYxpPyXl-"
      },
      "source": [
        "class Neuron:\n",
        "  def __init__(self, input_size=5):\n",
        "    self.w = np.random.random(input_size)\n",
        "    self.b = np.random.random()\n",
        "  def compute(self, inputs):\n",
        "    s = np.dot(self.w,inputs) + self.b\n",
        "    z = sigmoid(s)\n",
        "    return z"
      ],
      "execution_count": null,
      "outputs": []
    },
    {
      "cell_type": "code",
      "metadata": {
        "id": "-p45M-jRzFEQ",
        "colab": {
          "base_uri": "https://localhost:8080/"
        },
        "outputId": "a687db8f-0b6e-4960-ec93-1a10b98ca440"
      },
      "source": [
        "n = Neuron()\n",
        "n.compute([1,2,3,4,5])"
      ],
      "execution_count": null,
      "outputs": [
        {
          "output_type": "execute_result",
          "data": {
            "text/plain": [
              "0.9997053455666015"
            ]
          },
          "metadata": {},
          "execution_count": 10
        }
      ]
    },
    {
      "cell_type": "code",
      "metadata": {
        "colab": {
          "base_uri": "https://localhost:8080/",
          "height": 282
        },
        "id": "tZwYM9-snS_0",
        "outputId": "ba4a6e87-e53e-4663-c5cd-3ff39177de9a"
      },
      "source": [
        "y = np.tanh(x)\n",
        "plt.plot(x,y)"
      ],
      "execution_count": null,
      "outputs": [
        {
          "output_type": "execute_result",
          "data": {
            "text/plain": [
              "[<matplotlib.lines.Line2D at 0x7f5b79d47e90>]"
            ]
          },
          "metadata": {},
          "execution_count": 12
        },
        {
          "output_type": "display_data",
          "data": {
            "image/png": "[encoded data removed]",
            "text/plain": [
              "<Figure size 432x288 with 1 Axes>"
            ]
          },
          "metadata": {
            "needs_background": "light"
          }
        }
      ]
    },
    {
      "cell_type": "code",
      "metadata": {
        "id": "NWue1eVfndLY"
      },
      "source": [
        "class NewNeuron:\n",
        "  def __init__(self):\n",
        "    self.w = np.array([-1,0,1])   #pesos, 3 entradas\n",
        "    self.b = -0.5                 #bias\n",
        "  def compute(self, [inputs]):\n",
        "    s = np.dot(self.w,inputs) + self.b\n",
        "    z = np.tanh(s)\n",
        "    return z"
      ],
      "execution_count": null,
      "outputs": []
    },
    {
      "cell_type": "code",
      "metadata": {
        "colab": {
          "base_uri": "https://localhost:8080/"
        },
        "id": "VXRYIDfzorZT",
        "outputId": "6940afdf-b7fc-4f54-a982-ef6e6aa451fa"
      },
      "source": [
        "n1 = NewNeuron()\n",
        "n1.compute([1,5,3])"
      ],
      "execution_count": null,
      "outputs": [
        {
          "output_type": "execute_result",
          "data": {
            "text/plain": [
              "0.9051482536448664"
            ]
          },
          "metadata": {},
          "execution_count": 23
        }
      ]
    }
  ]
}